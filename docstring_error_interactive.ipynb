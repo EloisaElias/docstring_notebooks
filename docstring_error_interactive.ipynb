{
 "cells": [
  {
   "cell_type": "markdown",
   "metadata": {},
   "source": [
    "**NOTE** This notebook is work under progress"
   ]
  },
  {
   "cell_type": "markdown",
   "metadata": {},
   "source": [
    "# Interactive exploration of current errors in pandas docstrings"
   ]
  },
  {
   "cell_type": "markdown",
   "metadata": {},
   "source": [
    "*DISCLAIMER: This notebook is based on the one uploaded by @dujm [here](https://github.com/python-sprints/pandas-mentoring/blob/master/notebooks/docstring_error_interactive.ipynb)*\n",
    "\n",
    "\n",
    "This notebook will help you detect which errors are still present on some of the docstrings of pandas, so that you can select one of them, fix it, and submit a PR to the [pandas repository](https://github.com/pandas-dev/pandas). \n",
    "\n",
    "**IMPORTANT!** Before starting to work on fixing an error, check that nobody is already working on it by searching the issues and PRs in the pandas repository. If you nobody is doing so, open an issue and let others know you will be fixing that docstring.\n",
    "\n",
    "This script currently supports pandas version >= 0.25.0"
   ]
  },
  {
   "cell_type": "markdown",
   "metadata": {},
   "source": [
    "Let's start by importing the necessary packages:"
   ]
  },
  {
   "cell_type": "code",
   "execution_count": 2,
   "metadata": {},
   "outputs": [],
   "source": [
    "import os\n",
    "\n",
    "import pandas as pd\n",
    "import seaborn as sns\n",
    "import matplotlib.pyplot as plt\n",
    "\n",
    "import ipywidgets as widgets\n",
    "import qgrid"
   ]
  },
  {
   "cell_type": "markdown",
   "metadata": {},
   "source": [
    "## *Static exploration*"
   ]
  },
  {
   "cell_type": "markdown",
   "metadata": {},
   "source": [
    "## 1. Generate a .json containing all current errors"
   ]
  },
  {
   "cell_type": "markdown",
   "metadata": {},
   "source": [
    "This step was automatically done if you are running this notebook from Binder. Keep in mind that the .json file is updated every 15 minutes, so it might be outdated. When you select an error to work on, double check that nobody has submitted an issue to work on it already.\n",
    "\n",
    "If you want to generate the .json file locally, simply run the following command from your pandas clone:\n",
    "\n",
    "`./scripts/validate_docstrings.py --format=json > /path/to/json/pandas_docstring_errors.json`"
   ]
  },
  {
   "cell_type": "markdown",
   "metadata": {},
   "source": [
    "## 2. Plot a table describing the errors"
   ]
  },
  {
   "cell_type": "code",
   "execution_count": 4,
   "metadata": {
    "scrolled": true
   },
   "outputs": [
    {
     "data": {
      "text/html": [
       "<div>\n",
       "<style scoped>\n",
       "    .dataframe tbody tr th:only-of-type {\n",
       "        vertical-align: middle;\n",
       "    }\n",
       "\n",
       "    .dataframe tbody tr th {\n",
       "        vertical-align: top;\n",
       "    }\n",
       "\n",
       "    .dataframe thead th {\n",
       "        text-align: right;\n",
       "    }\n",
       "</style>\n",
       "<table border=\"1\" class=\"dataframe\">\n",
       "  <thead>\n",
       "    <tr style=\"text-align: right;\">\n",
       "      <th></th>\n",
       "      <th>index</th>\n",
       "      <th>type</th>\n",
       "      <th>docstring</th>\n",
       "      <th>deprecated</th>\n",
       "      <th>file</th>\n",
       "      <th>file_line</th>\n",
       "      <th>github_link</th>\n",
       "      <th>errors</th>\n",
       "      <th>warnings</th>\n",
       "      <th>examples_errors</th>\n",
       "      <th>in_api</th>\n",
       "      <th>section</th>\n",
       "      <th>subsection</th>\n",
       "      <th>shared_code_with</th>\n",
       "    </tr>\n",
       "  </thead>\n",
       "  <tbody>\n",
       "    <tr>\n",
       "      <th>0</th>\n",
       "      <td>pandas.Categorical</td>\n",
       "      <td>type</td>\n",
       "      <td>Represent a categorical variable in classic R ...</td>\n",
       "      <td>False</td>\n",
       "      <td>pandas/core/arrays/categorical.py</td>\n",
       "      <td>205</td>\n",
       "      <td>https://github.com/pandas-dev/pandas/blob/mast...</td>\n",
       "      <td>[PR01, Parameters {fastpath} not documented]</td>\n",
       "      <td>[]</td>\n",
       "      <td></td>\n",
       "      <td>True</td>\n",
       "      <td>Categorical data</td>\n",
       "      <td>Properties</td>\n",
       "      <td></td>\n",
       "    </tr>\n",
       "    <tr>\n",
       "      <th>1</th>\n",
       "      <td>pandas.Categorical</td>\n",
       "      <td>type</td>\n",
       "      <td>Represent a categorical variable in classic R ...</td>\n",
       "      <td>False</td>\n",
       "      <td>pandas/core/arrays/categorical.py</td>\n",
       "      <td>205</td>\n",
       "      <td>https://github.com/pandas-dev/pandas/blob/mast...</td>\n",
       "      <td>[PR09, Parameter \"dtype\" description should fi...</td>\n",
       "      <td>[]</td>\n",
       "      <td></td>\n",
       "      <td>True</td>\n",
       "      <td>Categorical data</td>\n",
       "      <td>Properties</td>\n",
       "      <td></td>\n",
       "    </tr>\n",
       "  </tbody>\n",
       "</table>\n",
       "</div>"
      ],
      "text/plain": [
       "                index  type  \\\n",
       "0  pandas.Categorical  type   \n",
       "1  pandas.Categorical  type   \n",
       "\n",
       "                                           docstring deprecated  \\\n",
       "0  Represent a categorical variable in classic R ...      False   \n",
       "1  Represent a categorical variable in classic R ...      False   \n",
       "\n",
       "                                file file_line  \\\n",
       "0  pandas/core/arrays/categorical.py       205   \n",
       "1  pandas/core/arrays/categorical.py       205   \n",
       "\n",
       "                                         github_link  \\\n",
       "0  https://github.com/pandas-dev/pandas/blob/mast...   \n",
       "1  https://github.com/pandas-dev/pandas/blob/mast...   \n",
       "\n",
       "                                              errors warnings examples_errors  \\\n",
       "0       [PR01, Parameters {fastpath} not documented]       []                   \n",
       "1  [PR09, Parameter \"dtype\" description should fi...       []                   \n",
       "\n",
       "  in_api           section  subsection shared_code_with  \n",
       "0   True  Categorical data  Properties                   \n",
       "1   True  Categorical data  Properties                   "
      ]
     },
     "execution_count": 4,
     "metadata": {},
     "output_type": "execute_result"
    }
   ],
   "source": [
    "file = 'pandas_docstring_errors.json'\n",
    "df = (pd.read_json(file)\n",
    "            .transpose()\n",
    "            #.filter(items=['errors'])\n",
    "            .explode('errors')\n",
    "            .dropna()\n",
    "            .reset_index()\n",
    "     )\n",
    "df.head(2)"
   ]
  },
  {
   "cell_type": "markdown",
   "metadata": {},
   "source": [
    "## 3. Split a list 'error' into separate data columns 'error_code' and 'error_name'"
   ]
  },
  {
   "cell_type": "code",
   "execution_count": 29,
   "metadata": {},
   "outputs": [
    {
     "data": {
      "text/html": [
       "<div>\n",
       "<style scoped>\n",
       "    .dataframe tbody tr th:only-of-type {\n",
       "        vertical-align: middle;\n",
       "    }\n",
       "\n",
       "    .dataframe tbody tr th {\n",
       "        vertical-align: top;\n",
       "    }\n",
       "\n",
       "    .dataframe thead th {\n",
       "        text-align: right;\n",
       "    }\n",
       "</style>\n",
       "<table border=\"1\" class=\"dataframe\">\n",
       "  <thead>\n",
       "    <tr style=\"text-align: right;\">\n",
       "      <th></th>\n",
       "      <th>error_code</th>\n",
       "      <th>error_name</th>\n",
       "    </tr>\n",
       "  </thead>\n",
       "  <tbody>\n",
       "    <tr>\n",
       "      <th>0</th>\n",
       "      <td>PR01</td>\n",
       "      <td>Parameters {fastpath} not documented</td>\n",
       "    </tr>\n",
       "    <tr>\n",
       "      <th>1</th>\n",
       "      <td>PR09</td>\n",
       "      <td>Parameter \"dtype\" description should finish wi...</td>\n",
       "    </tr>\n",
       "  </tbody>\n",
       "</table>\n",
       "</div>"
      ],
      "text/plain": [
       "  error_code                                         error_name\n",
       "0       PR01               Parameters {fastpath} not documented\n",
       "1       PR09  Parameter \"dtype\" description should finish wi..."
      ]
     },
     "execution_count": 29,
     "metadata": {},
     "output_type": "execute_result"
    }
   ],
   "source": [
    "df[['error_code','error_name']] = pd.DataFrame(df.errors.tolist(), index=df.index)\n",
    "df = df.drop([\"errors\",\"index\"], axis=1)\n",
    "df.head(2)"
   ]
  },
  {
   "cell_type": "markdown",
   "metadata": {},
   "source": [
    "## 4. Make a table to count the number of error_codes"
   ]
  },
  {
   "cell_type": "code",
   "execution_count": 30,
   "metadata": {
    "scrolled": false
   },
   "outputs": [
    {
     "data": {
      "text/html": [
       "<div>\n",
       "<style scoped>\n",
       "    .dataframe tbody tr th:only-of-type {\n",
       "        vertical-align: middle;\n",
       "    }\n",
       "\n",
       "    .dataframe tbody tr th {\n",
       "        vertical-align: top;\n",
       "    }\n",
       "\n",
       "    .dataframe thead th {\n",
       "        text-align: right;\n",
       "    }\n",
       "</style>\n",
       "<table border=\"1\" class=\"dataframe\">\n",
       "  <thead>\n",
       "    <tr style=\"text-align: right;\">\n",
       "      <th></th>\n",
       "      <th>error_code</th>\n",
       "      <th>counts</th>\n",
       "    </tr>\n",
       "  </thead>\n",
       "  <tbody>\n",
       "    <tr>\n",
       "      <th>0</th>\n",
       "      <td>GL08</td>\n",
       "      <td>513</td>\n",
       "    </tr>\n",
       "    <tr>\n",
       "      <th>1</th>\n",
       "      <td>RT03</td>\n",
       "      <td>330</td>\n",
       "    </tr>\n",
       "  </tbody>\n",
       "</table>\n",
       "</div>"
      ],
      "text/plain": [
       "  error_code  counts\n",
       "0       GL08     513\n",
       "1       RT03     330"
      ]
     },
     "execution_count": 30,
     "metadata": {},
     "output_type": "execute_result"
    }
   ],
   "source": [
    "df_code = df['error_code'].value_counts().reset_index()\n",
    "df_code.columns = ['error_code','counts']\n",
    "df_code.head(2)"
   ]
  },
  {
   "cell_type": "markdown",
   "metadata": {},
   "source": [
    "## *Interactive exploration* "
   ]
  },
  {
   "cell_type": "code",
   "execution_count": 31,
   "metadata": {},
   "outputs": [],
   "source": [
    "plot_output=widgets.Output()\n",
    "count_output= widgets.Output()\n",
    "error_output=widgets.Output()"
   ]
  },
  {
   "cell_type": "code",
   "execution_count": 32,
   "metadata": {},
   "outputs": [],
   "source": [
    "ALL = 'ALL'\n",
    "def unique_sorted_values_plus_ALL(array):\n",
    "    unique = array.unique().tolist()\n",
    "    unique.sort()\n",
    "    unique.insert(0, ALL)\n",
    "    return unique\n",
    "\n",
    "# 1.1) define a widget\n",
    "dropdown_code = widgets.Dropdown(options = unique_sorted_values_plus_ALL(df_code.error_code))\n",
    "\n",
    "# 1.2) Define a qgrid widget\n",
    "\n",
    "col_opts = { 'editable': False}\n",
    "qgrid.set_grid_option('maxVisibleRows', 10)\n",
    "qgrid_widget = qgrid.show_grid(df, \n",
    "                               column_options=col_opts,\n",
    "                               show_toolbar=False)\n",
    "qgrid_widget.layout = widgets.Layout(width='800px')\n"
   ]
  },
  {
   "cell_type": "code",
   "execution_count": 33,
   "metadata": {},
   "outputs": [],
   "source": [
    "# 2) use widget output to update tables/plots\n",
    "def data_filtering(code):\n",
    "    count_output.clear_output()\n",
    "    plot_output.clear_output()\n",
    "    error_output.clear_output()\n",
    "    # 1.1 if no filtering\n",
    "    if (code ==ALL):\n",
    "        count_filter = df_code\n",
    "        error_filter = df\n",
    "    # 1.2 filter by code\n",
    "    else:\n",
    "        count_filter = df_code[df_code.error_code ==code]\n",
    "        error_filter = df[df.error_code ==code]\n",
    "    # 2.1 plot_output\n",
    "    with plot_output:\n",
    "        sns.set(style='whitegrid')\n",
    "        ax=sns.barplot(x='error_code', y='counts', data=count_filter)\n",
    "        plt.xticks(rotation=45)\n",
    "        plt.xlabel('')\n",
    "        plt.ylabel('Counts')\n",
    "        plt.show()\n",
    "    # 2.2 capture table output\n",
    "    with count_output:\n",
    "        display(count_filter)\n",
    "   # 2.3 error_output\n",
    "    with error_output:\n",
    "        display(qgrid.show_grid(error_filter, column_options=col_opts,show_toolbar=False))\n",
    "        #qgrid_widget.observe(on_row_selected, names=['_selected_rows'])"
   ]
  },
  {
   "cell_type": "code",
   "execution_count": 34,
   "metadata": {},
   "outputs": [],
   "source": [
    "# 3) capture widget output\n",
    "def dropdown_code_eventhandler(change):\n",
    "    data_filtering(change.new)\n",
    "\n",
    "def qgrid_widget_eventhandler(change):\n",
    "    data_filtering(change.new)    \n",
    "    \n",
    "dropdown_code.observe(dropdown_code_eventhandler, names='value')\n",
    "\n",
    "qgrid_widget.observe(qgrid_widget_eventhandler, names='value')"
   ]
  },
  {
   "cell_type": "code",
   "execution_count": 35,
   "metadata": {},
   "outputs": [],
   "source": [
    "# 4) Add widget in dashboard layout\n",
    "input_widgets = widgets.HBox([dropdown_code])\n",
    "\n",
    "# 5) Create a container for the output\n",
    "tab = widgets.Tab([ plot_output,count_output, error_output])\n",
    "tab.set_title(0, 'Bar Plot')\n",
    "tab.set_title(1, 'Error code Count')\n",
    "tab.set_title(2, 'Error details')"
   ]
  },
  {
   "cell_type": "code",
   "execution_count": 36,
   "metadata": {
    "scrolled": true
   },
   "outputs": [
    {
     "data": {
      "application/vnd.jupyter.widget-view+json": {
       "model_id": "d48724d80afe4dc7ae4dc6d29028a1d9",
       "version_major": 2,
       "version_minor": 0
      },
      "text/plain": [
       "VBox(children=(HBox(children=(Dropdown(options=('ALL', 'EX02', 'EX03', 'GL01', 'GL02', 'GL08', 'PR01', 'PR02',…"
      ]
     },
     "metadata": {},
     "output_type": "display_data"
    }
   ],
   "source": [
    "# 6) Stack a dashboard\n",
    "dashboard = widgets.VBox([input_widgets, tab])\n",
    "display(dashboard)\n",
    "\n",
    "# Select an error code from the dropdown then check the three tabs"
   ]
  }
 ],
 "metadata": {
  "kernelspec": {
   "display_name": "Python 3",
   "language": "python",
   "name": "python3"
  },
  "language_info": {
   "codemirror_mode": {
    "name": "ipython",
    "version": 3
   },
   "file_extension": ".py",
   "mimetype": "text/x-python",
   "name": "python",
   "nbconvert_exporter": "python",
   "pygments_lexer": "ipython3",
   "version": "3.8.1"
  }
 },
 "nbformat": 4,
 "nbformat_minor": 2
}
