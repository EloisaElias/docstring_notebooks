{
 "cells": [
  {
   "cell_type": "markdown",
   "metadata": {},
   "source": [
    "**NOTE** This notebook is work under progress"
   ]
  },
  {
   "cell_type": "markdown",
   "metadata": {},
   "source": [
    "# Interactive exploration of current errors in pandas docstrings"
   ]
  },
  {
   "cell_type": "markdown",
   "metadata": {},
   "source": [
    "*DISCLAIMER: This notebook is based on the one uploaded by @dujm [here](https://github.com/python-sprints/pandas-mentoring/blob/master/notebooks/docstring_error_interactive.ipynb)*\n",
    "\n",
    "\n",
    "This notebook will help you detect which errors are still present on some of the docstrings of pandas, so that you can select one of them, fix it, and submit a PR to the [pandas repository](https://github.com/pandas-dev/pandas). \n",
    "\n",
    "**IMPORTANT!** Before starting to work on fixing an error, check that nobody is already working on it by searching the issues and PRs in the pandas repository. If you nobody is doing so, open an issue and let others know you will be fixing that docstring.\n",
    "\n",
    "This script currently supports pandas version >= 0.25.0"
   ]
  },
  {
   "cell_type": "markdown",
   "metadata": {},
   "source": [
    "Let's start by importing the necessary packages:"
   ]
  },
  {
   "cell_type": "code",
   "execution_count": 1,
   "metadata": {},
   "outputs": [],
   "source": [
    "import os\n",
    "\n",
    "import pandas as pd\n",
    "import seaborn as sns\n",
    "import matplotlib.pyplot as plt\n",
    "\n",
    "import ipywidgets as widgets\n",
    "import qgrid"
   ]
  },
  {
   "cell_type": "markdown",
   "metadata": {},
   "source": [
    "## *Static exploration*"
   ]
  },
  {
   "cell_type": "markdown",
   "metadata": {},
   "source": [
    "## 1. Generate a .json containing all current errors"
   ]
  },
  {
   "cell_type": "markdown",
   "metadata": {},
   "source": [
    "This step was automatically done if you are running this notebook from Binder. Keep in mind that the .json file is updated every 15 minutes, so it might be outdated. When you select an error to work on, double check that nobody has submitted an issue to work on it already.\n",
    "\n",
    "If you want to generate the .json file locally, simply run the following command from your pandas clone:\n",
    "\n",
    "`./scripts/validate_docstrings.py --format=json > /path/to/json/pandas_docstring_errors.json`"
   ]
  },
  {
   "cell_type": "markdown",
   "metadata": {},
   "source": [
    "## 2. Plot a table describing the errors"
   ]
  },
  {
   "cell_type": "markdown",
   "metadata": {},
   "source": [
    "We will plot a table that indicates which pandas functions still have an error in their docstrings. The specific error code and description will be also described."
   ]
  },
  {
   "cell_type": "code",
   "execution_count": 21,
   "metadata": {
    "scrolled": true
   },
   "outputs": [
    {
     "data": {
      "text/html": [
       "<div>\n",
       "<style scoped>\n",
       "    .dataframe tbody tr th:only-of-type {\n",
       "        vertical-align: middle;\n",
       "    }\n",
       "\n",
       "    .dataframe tbody tr th {\n",
       "        vertical-align: top;\n",
       "    }\n",
       "\n",
       "    .dataframe thead th {\n",
       "        text-align: right;\n",
       "    }\n",
       "</style>\n",
       "<table border=\"1\" class=\"dataframe\">\n",
       "  <thead>\n",
       "    <tr style=\"text-align: right;\">\n",
       "      <th></th>\n",
       "      <th>function</th>\n",
       "      <th>file</th>\n",
       "      <th>file_line</th>\n",
       "      <th>error_code</th>\n",
       "      <th>error_description</th>\n",
       "    </tr>\n",
       "  </thead>\n",
       "  <tbody>\n",
       "    <tr>\n",
       "      <th>0</th>\n",
       "      <td>pandas.Categorical</td>\n",
       "      <td>pandas/core/arrays/categorical.py</td>\n",
       "      <td>209</td>\n",
       "      <td>PR01</td>\n",
       "      <td>Parameters {fastpath} not documented</td>\n",
       "    </tr>\n",
       "    <tr>\n",
       "      <th>1</th>\n",
       "      <td>pandas.Categorical.__array__</td>\n",
       "      <td>pandas/core/arrays/categorical.py</td>\n",
       "      <td>1267</td>\n",
       "      <td>PR01</td>\n",
       "      <td>Parameters {dtype} not documented</td>\n",
       "    </tr>\n",
       "    <tr>\n",
       "      <th>2</th>\n",
       "      <td>pandas.Categorical.categories</td>\n",
       "      <td>pandas/core/arrays/categorical.py</td>\n",
       "      <td>396</td>\n",
       "      <td>SA04</td>\n",
       "      <td>Missing description for See Also \"rename_categ...</td>\n",
       "    </tr>\n",
       "    <tr>\n",
       "      <th>3</th>\n",
       "      <td>pandas.Categorical.categories</td>\n",
       "      <td>pandas/core/arrays/categorical.py</td>\n",
       "      <td>396</td>\n",
       "      <td>SA04</td>\n",
       "      <td>Missing description for See Also \"reorder_cate...</td>\n",
       "    </tr>\n",
       "    <tr>\n",
       "      <th>4</th>\n",
       "      <td>pandas.Categorical.categories</td>\n",
       "      <td>pandas/core/arrays/categorical.py</td>\n",
       "      <td>396</td>\n",
       "      <td>SA04</td>\n",
       "      <td>Missing description for See Also \"add_categori...</td>\n",
       "    </tr>\n",
       "    <tr>\n",
       "      <th>...</th>\n",
       "      <td>...</td>\n",
       "      <td>...</td>\n",
       "      <td>...</td>\n",
       "      <td>...</td>\n",
       "      <td>...</td>\n",
       "    </tr>\n",
       "    <tr>\n",
       "      <th>2313</th>\n",
       "      <td>pandas.wide_to_long</td>\n",
       "      <td>pandas/core/reshape/melt.py</td>\n",
       "      <td>195</td>\n",
       "      <td>EX03</td>\n",
       "      <td>flake8 error: C403 Unnecessary list comprehens...</td>\n",
       "    </tr>\n",
       "    <tr>\n",
       "      <th>2314</th>\n",
       "      <td>pandas.wide_to_long</td>\n",
       "      <td>pandas/core/reshape/melt.py</td>\n",
       "      <td>195</td>\n",
       "      <td>EX03</td>\n",
       "      <td>flake8 error: E124 closing bracket does not ma...</td>\n",
       "    </tr>\n",
       "    <tr>\n",
       "      <th>2315</th>\n",
       "      <td>pandas.wide_to_long</td>\n",
       "      <td>pandas/core/reshape/melt.py</td>\n",
       "      <td>195</td>\n",
       "      <td>EX03</td>\n",
       "      <td>flake8 error: E261 at least two spaces before ...</td>\n",
       "    </tr>\n",
       "    <tr>\n",
       "      <th>2316</th>\n",
       "      <td>pandas.wide_to_long</td>\n",
       "      <td>pandas/core/reshape/melt.py</td>\n",
       "      <td>195</td>\n",
       "      <td>EX03</td>\n",
       "      <td>flake8 error: E741 ambiguous variable name 'l'...</td>\n",
       "    </tr>\n",
       "    <tr>\n",
       "      <th>2317</th>\n",
       "      <td>pandas.wide_to_long</td>\n",
       "      <td>pandas/core/reshape/melt.py</td>\n",
       "      <td>195</td>\n",
       "      <td>EX03</td>\n",
       "      <td>flake8 error: W605 invalid escape sequence '\\w'</td>\n",
       "    </tr>\n",
       "  </tbody>\n",
       "</table>\n",
       "<p>2318 rows × 5 columns</p>\n",
       "</div>"
      ],
      "text/plain": [
       "                           function                               file  \\\n",
       "0                pandas.Categorical  pandas/core/arrays/categorical.py   \n",
       "1      pandas.Categorical.__array__  pandas/core/arrays/categorical.py   \n",
       "2     pandas.Categorical.categories  pandas/core/arrays/categorical.py   \n",
       "3     pandas.Categorical.categories  pandas/core/arrays/categorical.py   \n",
       "4     pandas.Categorical.categories  pandas/core/arrays/categorical.py   \n",
       "...                             ...                                ...   \n",
       "2313            pandas.wide_to_long        pandas/core/reshape/melt.py   \n",
       "2314            pandas.wide_to_long        pandas/core/reshape/melt.py   \n",
       "2315            pandas.wide_to_long        pandas/core/reshape/melt.py   \n",
       "2316            pandas.wide_to_long        pandas/core/reshape/melt.py   \n",
       "2317            pandas.wide_to_long        pandas/core/reshape/melt.py   \n",
       "\n",
       "     file_line error_code                                  error_description  \n",
       "0          209       PR01               Parameters {fastpath} not documented  \n",
       "1         1267       PR01                  Parameters {dtype} not documented  \n",
       "2          396       SA04  Missing description for See Also \"rename_categ...  \n",
       "3          396       SA04  Missing description for See Also \"reorder_cate...  \n",
       "4          396       SA04  Missing description for See Also \"add_categori...  \n",
       "...        ...        ...                                                ...  \n",
       "2313       195       EX03  flake8 error: C403 Unnecessary list comprehens...  \n",
       "2314       195       EX03  flake8 error: E124 closing bracket does not ma...  \n",
       "2315       195       EX03  flake8 error: E261 at least two spaces before ...  \n",
       "2316       195       EX03  flake8 error: E741 ambiguous variable name 'l'...  \n",
       "2317       195       EX03    flake8 error: W605 invalid escape sequence '\\w'  \n",
       "\n",
       "[2318 rows x 5 columns]"
      ]
     },
     "execution_count": 21,
     "metadata": {},
     "output_type": "execute_result"
    }
   ],
   "source": [
    "file = 'pandas_docstring_errors.json'\n",
    "df = (pd.read_json(file)\n",
    "            .transpose()\n",
    "            .filter(items=['errors', 'file', 'file_line'])\n",
    "            .explode('errors')\n",
    "            .dropna()\n",
    "            .reset_index()\n",
    "            .rename(columns={\"index\": \"function\"})\n",
    "     )\n",
    "df[['error_code','error_description']] = pd.DataFrame(df.errors.tolist())\n",
    "df = df.drop([\"errors\"], axis=1)\n",
    "\n",
    "df"
   ]
  },
  {
   "cell_type": "markdown",
   "metadata": {},
   "source": [
    "## 3. Count number of functions with errors per error type"
   ]
  },
  {
   "cell_type": "code",
   "execution_count": 31,
   "metadata": {
    "scrolled": false
   },
   "outputs": [
    {
     "data": {
      "text/html": [
       "<div>\n",
       "<style scoped>\n",
       "    .dataframe tbody tr th:only-of-type {\n",
       "        vertical-align: middle;\n",
       "    }\n",
       "\n",
       "    .dataframe tbody tr th {\n",
       "        vertical-align: top;\n",
       "    }\n",
       "\n",
       "    .dataframe thead th {\n",
       "        text-align: right;\n",
       "    }\n",
       "</style>\n",
       "<table border=\"1\" class=\"dataframe\">\n",
       "  <thead>\n",
       "    <tr style=\"text-align: right;\">\n",
       "      <th></th>\n",
       "      <th>error_code</th>\n",
       "      <th>counts</th>\n",
       "    </tr>\n",
       "  </thead>\n",
       "  <tbody>\n",
       "    <tr>\n",
       "      <th>0</th>\n",
       "      <td>GL08</td>\n",
       "      <td>407</td>\n",
       "    </tr>\n",
       "    <tr>\n",
       "      <th>1</th>\n",
       "      <td>RT03</td>\n",
       "      <td>328</td>\n",
       "    </tr>\n",
       "    <tr>\n",
       "      <th>2</th>\n",
       "      <td>SA04</td>\n",
       "      <td>313</td>\n",
       "    </tr>\n",
       "    <tr>\n",
       "      <th>3</th>\n",
       "      <td>PR01</td>\n",
       "      <td>253</td>\n",
       "    </tr>\n",
       "    <tr>\n",
       "      <th>4</th>\n",
       "      <td>PR07</td>\n",
       "      <td>249</td>\n",
       "    </tr>\n",
       "    <tr>\n",
       "      <th>5</th>\n",
       "      <td>EX02</td>\n",
       "      <td>174</td>\n",
       "    </tr>\n",
       "    <tr>\n",
       "      <th>6</th>\n",
       "      <td>EX03</td>\n",
       "      <td>166</td>\n",
       "    </tr>\n",
       "    <tr>\n",
       "      <th>7</th>\n",
       "      <td>RT02</td>\n",
       "      <td>135</td>\n",
       "    </tr>\n",
       "    <tr>\n",
       "      <th>8</th>\n",
       "      <td>SS06</td>\n",
       "      <td>108</td>\n",
       "    </tr>\n",
       "    <tr>\n",
       "      <th>9</th>\n",
       "      <td>PR02</td>\n",
       "      <td>101</td>\n",
       "    </tr>\n",
       "    <tr>\n",
       "      <th>10</th>\n",
       "      <td>PR08</td>\n",
       "      <td>42</td>\n",
       "    </tr>\n",
       "    <tr>\n",
       "      <th>11</th>\n",
       "      <td>PR09</td>\n",
       "      <td>19</td>\n",
       "    </tr>\n",
       "    <tr>\n",
       "      <th>12</th>\n",
       "      <td>PR06</td>\n",
       "      <td>14</td>\n",
       "    </tr>\n",
       "    <tr>\n",
       "      <th>13</th>\n",
       "      <td>GL01</td>\n",
       "      <td>4</td>\n",
       "    </tr>\n",
       "    <tr>\n",
       "      <th>14</th>\n",
       "      <td>YD01</td>\n",
       "      <td>4</td>\n",
       "    </tr>\n",
       "    <tr>\n",
       "      <th>15</th>\n",
       "      <td>GL02</td>\n",
       "      <td>1</td>\n",
       "    </tr>\n",
       "  </tbody>\n",
       "</table>\n",
       "</div>"
      ],
      "text/plain": [
       "   error_code  counts\n",
       "0        GL08     407\n",
       "1        RT03     328\n",
       "2        SA04     313\n",
       "3        PR01     253\n",
       "4        PR07     249\n",
       "5        EX02     174\n",
       "6        EX03     166\n",
       "7        RT02     135\n",
       "8        SS06     108\n",
       "9        PR02     101\n",
       "10       PR08      42\n",
       "11       PR09      19\n",
       "12       PR06      14\n",
       "13       GL01       4\n",
       "14       YD01       4\n",
       "15       GL02       1"
      ]
     },
     "execution_count": 31,
     "metadata": {},
     "output_type": "execute_result"
    }
   ],
   "source": [
    "df_code = df['error_code'].value_counts().reset_index()\n",
    "df_code.columns = ['error_code','counts']\n",
    "\n",
    "df_code"
   ]
  },
  {
   "cell_type": "markdown",
   "metadata": {},
   "source": [
    "## 4. Count number of errors per function"
   ]
  },
  {
   "cell_type": "code",
   "execution_count": 32,
   "metadata": {},
   "outputs": [
    {
     "data": {
      "text/html": [
       "<div>\n",
       "<style scoped>\n",
       "    .dataframe tbody tr th:only-of-type {\n",
       "        vertical-align: middle;\n",
       "    }\n",
       "\n",
       "    .dataframe tbody tr th {\n",
       "        vertical-align: top;\n",
       "    }\n",
       "\n",
       "    .dataframe thead th {\n",
       "        text-align: right;\n",
       "    }\n",
       "</style>\n",
       "<table border=\"1\" class=\"dataframe\">\n",
       "  <thead>\n",
       "    <tr style=\"text-align: right;\">\n",
       "      <th></th>\n",
       "      <th>function</th>\n",
       "      <th>counts</th>\n",
       "    </tr>\n",
       "  </thead>\n",
       "  <tbody>\n",
       "    <tr>\n",
       "      <th>0</th>\n",
       "      <td>pandas.HDFStore.append</td>\n",
       "      <td>14</td>\n",
       "    </tr>\n",
       "    <tr>\n",
       "      <th>1</th>\n",
       "      <td>pandas.PeriodIndex</td>\n",
       "      <td>13</td>\n",
       "    </tr>\n",
       "    <tr>\n",
       "      <th>2</th>\n",
       "      <td>pandas.core.groupby.DataFrameGroupBy.boxplot</td>\n",
       "      <td>13</td>\n",
       "    </tr>\n",
       "    <tr>\n",
       "      <th>3</th>\n",
       "      <td>pandas.merge_asof</td>\n",
       "      <td>11</td>\n",
       "    </tr>\n",
       "    <tr>\n",
       "      <th>4</th>\n",
       "      <td>pandas.CategoricalIndex.remove_categories</td>\n",
       "      <td>9</td>\n",
       "    </tr>\n",
       "    <tr>\n",
       "      <th>...</th>\n",
       "      <td>...</td>\n",
       "      <td>...</td>\n",
       "    </tr>\n",
       "    <tr>\n",
       "      <th>1185</th>\n",
       "      <td>pandas.tseries.offsets.BusinessDay.apply</td>\n",
       "      <td>1</td>\n",
       "    </tr>\n",
       "    <tr>\n",
       "      <th>1186</th>\n",
       "      <td>pandas.tseries.offsets.Day.is_anchored</td>\n",
       "      <td>1</td>\n",
       "    </tr>\n",
       "    <tr>\n",
       "      <th>1187</th>\n",
       "      <td>pandas.tseries.offsets.SemiMonthOffset.nanos</td>\n",
       "      <td>1</td>\n",
       "    </tr>\n",
       "    <tr>\n",
       "      <th>1188</th>\n",
       "      <td>pandas.Index.nunique</td>\n",
       "      <td>1</td>\n",
       "    </tr>\n",
       "    <tr>\n",
       "      <th>1189</th>\n",
       "      <td>pandas.tseries.offsets.CBMonthEnd.is_anchored</td>\n",
       "      <td>1</td>\n",
       "    </tr>\n",
       "  </tbody>\n",
       "</table>\n",
       "<p>1190 rows × 2 columns</p>\n",
       "</div>"
      ],
      "text/plain": [
       "                                           function  counts\n",
       "0                            pandas.HDFStore.append      14\n",
       "1                                pandas.PeriodIndex      13\n",
       "2      pandas.core.groupby.DataFrameGroupBy.boxplot      13\n",
       "3                                 pandas.merge_asof      11\n",
       "4         pandas.CategoricalIndex.remove_categories       9\n",
       "...                                             ...     ...\n",
       "1185       pandas.tseries.offsets.BusinessDay.apply       1\n",
       "1186         pandas.tseries.offsets.Day.is_anchored       1\n",
       "1187   pandas.tseries.offsets.SemiMonthOffset.nanos       1\n",
       "1188                           pandas.Index.nunique       1\n",
       "1189  pandas.tseries.offsets.CBMonthEnd.is_anchored       1\n",
       "\n",
       "[1190 rows x 2 columns]"
      ]
     },
     "execution_count": 32,
     "metadata": {},
     "output_type": "execute_result"
    }
   ],
   "source": [
    "df_function = df['function'].value_counts().reset_index()\n",
    "df_function.columns = ['function','counts']\n",
    "\n",
    "df_function"
   ]
  },
  {
   "cell_type": "markdown",
   "metadata": {},
   "source": [
    "## *Interactive exploration* "
   ]
  },
  {
   "cell_type": "code",
   "execution_count": 28,
   "metadata": {},
   "outputs": [],
   "source": [
    "plot_output = widgets.Output()\n",
    "count_output = widgets.Output()\n",
    "error_output = widgets.Output()"
   ]
  },
  {
   "cell_type": "code",
   "execution_count": 33,
   "metadata": {},
   "outputs": [],
   "source": [
    "ALL = 'ALL'\n",
    "def unique_sorted_values_plus_ALL(array):\n",
    "    unique = array.unique().tolist()\n",
    "    unique.sort()\n",
    "    unique.insert(0, ALL)\n",
    "    return unique\n",
    "\n",
    "# 1.1) define a widget\n",
    "dropdown_code = widgets.Dropdown(options = unique_sorted_values_plus_ALL(df_code.error_code))\n",
    "\n",
    "# 1.2) Define a qgrid widget\n",
    "\n",
    "col_opts = { 'editable': False}\n",
    "qgrid.set_grid_option('maxVisibleRows', 10)\n",
    "qgrid_widget = qgrid.show_grid(df, \n",
    "                               column_options=col_opts,\n",
    "                               show_toolbar=False)\n",
    "qgrid_widget.layout = widgets.Layout(width='800px')\n"
   ]
  },
  {
   "cell_type": "code",
   "execution_count": 34,
   "metadata": {},
   "outputs": [],
   "source": [
    "# 2) use widget output to update tables/plots\n",
    "def data_filtering(code):\n",
    "    count_output.clear_output()\n",
    "    plot_output.clear_output()\n",
    "    error_output.clear_output()\n",
    "    # 1.1 if no filtering\n",
    "    if (code ==ALL):\n",
    "        count_filter = df_code\n",
    "        error_filter = df\n",
    "    # 1.2 filter by code\n",
    "    else:\n",
    "        count_filter = df_code[df_code.error_code ==code]\n",
    "        error_filter = df[df.error_code ==code]\n",
    "    # 2.1 plot_output\n",
    "    with plot_output:\n",
    "        sns.set(style='whitegrid')\n",
    "        ax=sns.barplot(x='error_code', y='counts', data=count_filter)\n",
    "        plt.xticks(rotation=45)\n",
    "        plt.xlabel('')\n",
    "        plt.ylabel('Counts')\n",
    "        plt.show()\n",
    "    # 2.2 capture table output\n",
    "    with count_output:\n",
    "        display(count_filter)\n",
    "   # 2.3 error_output\n",
    "    with error_output:\n",
    "        display(qgrid.show_grid(error_filter, column_options=col_opts,show_toolbar=False))\n",
    "        #qgrid_widget.observe(on_row_selected, names=['_selected_rows'])"
   ]
  },
  {
   "cell_type": "code",
   "execution_count": 35,
   "metadata": {},
   "outputs": [],
   "source": [
    "# 3) capture widget output\n",
    "def dropdown_code_eventhandler(change):\n",
    "    data_filtering(change.new)\n",
    "\n",
    "def qgrid_widget_eventhandler(change):\n",
    "    data_filtering(change.new)    \n",
    "    \n",
    "dropdown_code.observe(dropdown_code_eventhandler, names='value')\n",
    "\n",
    "qgrid_widget.observe(qgrid_widget_eventhandler, names='value')"
   ]
  },
  {
   "cell_type": "code",
   "execution_count": 36,
   "metadata": {},
   "outputs": [],
   "source": [
    "# 4) Add widget in dashboard layout\n",
    "input_widgets = widgets.HBox([dropdown_code])\n",
    "\n",
    "# 5) Create a container for the output\n",
    "tab = widgets.Tab([ plot_output,count_output, error_output])\n",
    "tab.set_title(0, 'Bar Plot')\n",
    "tab.set_title(1, 'Error code Count')\n",
    "tab.set_title(2, 'Error details')"
   ]
  },
  {
   "cell_type": "code",
   "execution_count": 37,
   "metadata": {
    "scrolled": true
   },
   "outputs": [
    {
     "data": {
      "application/vnd.jupyter.widget-view+json": {
       "model_id": "fad9c7b22da94e8f89522638cb012a52",
       "version_major": 2,
       "version_minor": 0
      },
      "text/plain": [
       "VBox(children=(HBox(children=(Dropdown(options=('ALL', 'EX02', 'EX03', 'GL01', 'GL02', 'GL08', 'PR01', 'PR02',…"
      ]
     },
     "metadata": {},
     "output_type": "display_data"
    }
   ],
   "source": [
    "# 6) Stack a dashboard\n",
    "dashboard = widgets.VBox([input_widgets, tab])\n",
    "display(dashboard)\n",
    "\n",
    "# Select an error code from the dropdown then check the three tabs"
   ]
  },
  {
   "cell_type": "code",
   "execution_count": null,
   "metadata": {},
   "outputs": [],
   "source": []
  }
 ],
 "metadata": {
  "kernelspec": {
   "display_name": "Python 3",
   "language": "python",
   "name": "python3"
  },
  "language_info": {
   "codemirror_mode": {
    "name": "ipython",
    "version": 3
   },
   "file_extension": ".py",
   "mimetype": "text/x-python",
   "name": "python",
   "nbconvert_exporter": "python",
   "pygments_lexer": "ipython3",
   "version": "3.8.1"
  }
 },
 "nbformat": 4,
 "nbformat_minor": 2
}
